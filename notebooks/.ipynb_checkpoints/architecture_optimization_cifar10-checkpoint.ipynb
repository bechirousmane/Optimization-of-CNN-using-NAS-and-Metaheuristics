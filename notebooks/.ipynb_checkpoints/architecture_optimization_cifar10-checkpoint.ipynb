{
 "cells": [
  {
   "cell_type": "markdown",
   "id": "b65c33fa",
   "metadata": {},
   "source": [
    "# Recherche d'architecture pour le jeu de données CIFAR10"
   ]
  },
  {
   "cell_type": "code",
   "execution_count": 1,
   "id": "8caf9b45",
   "metadata": {
    "vscode": {
     "languageId": "plaintext"
    }
   },
   "outputs": [
    {
     "name": "stdout",
     "output_type": "stream",
     "text": [
      "Processing /workspace/optimization-of-cnn-using-nas-and-metaheuristics\n",
      "  Installing build dependencies ... \u001b[?25ldone\n",
      "\u001b[?25h  Getting requirements to build wheel ... \u001b[?25ldone\n",
      "\u001b[?25h  Preparing metadata (pyproject.toml) ... \u001b[?25ldone\n",
      "\u001b[?25hCollecting e\n",
      "  Downloading e-1.4.5.tar.gz (1.8 kB)\n",
      "  Preparing metadata (setup.py) ... \u001b[?25ldone\n",
      "\u001b[?25hBuilding wheels for collected packages: e, optimization\n",
      "  Building wheel for e (setup.py) ... \u001b[?25ldone\n",
      "\u001b[?25h  Created wheel for e: filename=e-1.4.5-py3-none-any.whl size=2794 sha256=6a50f902f4ca6a2336fa7f72e113b8638d7ac7aa32de8f58d74683d3da69df79\n",
      "  Stored in directory: /root/.cache/pip/wheels/3d/dc/3e/208e61209d7750644677d72934d2997177aa34e894bd398e16\n",
      "  Building wheel for optimization (pyproject.toml) ... \u001b[?25ldone\n",
      "\u001b[?25h  Created wheel for optimization: filename=optimization-0.1-py3-none-any.whl size=29621 sha256=ba39a0ba60a6625da060af32ab77404fec8479694030ce5864993eb08f7919aa\n",
      "  Stored in directory: /root/.cache/pip/wheels/8f/d5/d6/41e16ecde98da0d22601750c7fa434a8b809edc1d461c9d9a4\n",
      "Successfully built e optimization\n",
      "Installing collected packages: optimization, e\n",
      "Successfully installed e-1.4.5 optimization-0.1\n",
      "\u001b[33mWARNING: Running pip as the 'root' user can result in broken permissions and conflicting behaviour with the system package manager. It is recommended to use a virtual environment instead: https://pip.pypa.io/warnings/venv\u001b[0m\u001b[33m\n",
      "\u001b[0m\n",
      "\u001b[1m[\u001b[0m\u001b[34;49mnotice\u001b[0m\u001b[1;39;49m]\u001b[0m\u001b[39;49m A new release of pip is available: \u001b[0m\u001b[31;49m23.3.1\u001b[0m\u001b[39;49m -> \u001b[0m\u001b[32;49m25.1.1\u001b[0m\n",
      "\u001b[1m[\u001b[0m\u001b[34;49mnotice\u001b[0m\u001b[1;39;49m]\u001b[0m\u001b[39;49m To update, run: \u001b[0m\u001b[32;49mpython -m pip install --upgrade pip\u001b[0m\n"
     ]
    }
   ],
   "source": [
    "!pip install e ../\n",
    "import torch\n",
    "from data.cifar10_loader import load_cifar10\n",
    "from optimizers.random_search import RandomSearch\n",
    "from optimizers.genetic_search import GeneticSearch\n",
    "from optimizers.firefly_search import FireFlySearch\n",
    "from search_spaces.searchSpaceConfig import Config\n",
    "from train.trainer import ModelTrainer\n",
    "from ressource.ressource_manager import ResourceManager\n",
    "from search_spaces.utils import * "
   ]
  },
  {
   "cell_type": "markdown",
   "id": "97331b19-3af6-41de-b8ee-993d90296511",
   "metadata": {},
   "source": [
    "## Définition des paramètres et chargement de la configuration de l'espace de recherche"
   ]
  },
  {
   "cell_type": "code",
   "execution_count": 2,
   "id": "9f2323fb-6bad-4176-9aa6-b4e67fe22143",
   "metadata": {},
   "outputs": [
    {
     "name": "stderr",
     "output_type": "stream",
     "text": [
      "2025-05-18 11:42:50,258 - search_spaces.searchSpaceConfig - INFO - Configuration successfully loaded from ../config.json\n"
     ]
    }
   ],
   "source": [
    "epochs = 10\n",
    "batch_size = 128\n",
    "lr = 0.001\n",
    "population_size = 20\n",
    "iterations = 15\n",
    "input_shape = (3,32,32)\n",
    "optimizer = \"AdamW\"\n",
    "num_classes = 10\n",
    "Config.load_config(config_path=\"../config.json\")"
   ]
  },
  {
   "cell_type": "code",
   "execution_count": 3,
   "id": "e983f8a1-a9e2-4003-bdf2-fe5dfd649da3",
   "metadata": {},
   "outputs": [
    {
     "name": "stdout",
     "output_type": "stream",
     "text": [
      "{'FILTERS_MAP': [32, 64, 128, 256], 'KERNEL_MAP': [2, 3, 5, 7], 'STRIDE_MAP': [1, 2, 3, 4], 'CONV_PADDING': 1, 'POOL_PADDING': 1, 'FC_SIZES': [8, 16, 24, 32, 48, 64, 80, 96, 112, 128, 160, 192, 224, 256, 384, 512], 'MAX_LAYERS': 10, 'MIN_LAYERS': 2, 'CROMOSOME_SIZE': 8, 'ACTIVATION_FUNCTIONS': ['ReLU', 'ELU', 'Sigmoid', 'Tanh']}\n"
     ]
    }
   ],
   "source": [
    "print(Config.get_config_as_dict())"
   ]
  },
  {
   "cell_type": "markdown",
   "id": "60de454d-a5e2-4f5a-a51b-ea304857a9d7",
   "metadata": {},
   "source": [
    "## Chargement des données"
   ]
  },
  {
   "cell_type": "code",
   "execution_count": 4,
   "id": "41259cbf-2ebc-4cf0-8c93-919140784e8e",
   "metadata": {},
   "outputs": [
    {
     "name": "stdout",
     "output_type": "stream",
     "text": [
      "Files already downloaded and verified\n",
      "Files already downloaded and verified\n",
      "CIFAR10 dataset loaded: 20000 training samples, 5000 test samples\n",
      "Data shape: torch.Size([128, 3, 32, 32])\n",
      "Classes: ['airplane', 'automobile', 'bird', 'cat', 'deer', 'dog', 'frog', 'horse', 'ship', 'truck']\n"
     ]
    }
   ],
   "source": [
    "n_sub_train, n_sub_test = 20000, 5000\n",
    "sub_train, sub_test = load_cifar10(n_train=n_sub_train, n_test=n_sub_test,batch_size=batch_size)"
   ]
  },
  {
   "cell_type": "code",
   "execution_count": 5,
   "id": "4d0753ad-9f08-490b-9f04-6c7414f3a784",
   "metadata": {},
   "outputs": [
    {
     "name": "stdout",
     "output_type": "stream",
     "text": [
      "Files already downloaded and verified\n",
      "Files already downloaded and verified\n",
      "CIFAR10 dataset loaded: 50000 training samples, 10000 test samples\n",
      "Data shape: torch.Size([128, 3, 32, 32])\n",
      "Classes: Not available for Subset\n"
     ]
    }
   ],
   "source": [
    "train, test = load_cifar10(batch_size=batch_size)"
   ]
  },
  {
   "cell_type": "markdown",
   "id": "37dee11c-1231-47c2-995e-62ee81b29355",
   "metadata": {},
   "source": [
    "## La recherche aléatoire"
   ]
  },
  {
   "cell_type": "code",
   "execution_count": 6,
   "id": "47c53e54-ad8e-4c5f-9037-ee5ead0d4fd9",
   "metadata": {},
   "outputs": [
    {
     "data": {
      "text/plain": [
       "4"
      ]
     },
     "execution_count": 6,
     "metadata": {},
     "output_type": "execute_result"
    }
   ],
   "source": [
    "torch.cuda.device_count()"
   ]
  },
  {
   "cell_type": "code",
   "execution_count": 7,
   "id": "6e8bb865-ae18-4e17-9d30-3b65e95fd6a6",
   "metadata": {},
   "outputs": [],
   "source": [
    "random_search = RandomSearch(\n",
    "    population_size=population_size,\n",
    "    iterations=iterations,\n",
    "    train_loader=sub_train,\n",
    "    test_loader=sub_test,\n",
    "    input_shape=input_shape,\n",
    "    num_classes=num_classes,\n",
    "    epochs=epochs,\n",
    "    lr=lr,\n",
    "    optimizer=optimizer,\n",
    "    use_gpu=torch.cuda.is_available()\n",
    ")"
   ]
  },
  {
   "cell_type": "code",
   "execution_count": 13,
   "id": "413a3716-2429-4ec4-9976-c0405ed1b939",
   "metadata": {},
   "outputs": [
    {
     "name": "stdout",
     "output_type": "stream",
     "text": [
      "Iteration 1/15\n"
     ]
    },
    {
     "name": "stderr",
     "output_type": "stream",
     "text": [
      "/usr/local/lib/python3.10/dist-packages/torch/nn/init.py:412: UserWarning: Initializing zero-element tensors is a no-op\n",
      "  warnings.warn(\"Initializing zero-element tensors is a no-op\")\n"
     ]
    },
    {
     "name": "stdout",
     "output_type": "stream",
     "text": [
      "New best architecture found with fitness: 0.0\n",
      "New best architecture found with fitness: 0.41942874087214144\n",
      "New best architecture found with fitness: 0.4638928888804312\n",
      "New best architecture found with fitness: 0.5110430903752514\n",
      "Average fitness: 0.2727323068514373\n",
      "Best fitness so far: 0.5110430903752514\n",
      "Iteration 2/15\n",
      "Average fitness: 0.19675687875531986\n",
      "Best fitness so far: 0.5110430903752514\n",
      "Iteration 3/15\n",
      "Average fitness: 0.21879898014674543\n",
      "Best fitness so far: 0.5110430903752514\n",
      "Iteration 4/15\n",
      "New best architecture found with fitness: 0.5266555051321131\n",
      "Average fitness: 0.2300765196598861\n",
      "Best fitness so far: 0.5266555051321131\n",
      "Iteration 5/15\n",
      "Average fitness: 0.2616900732962953\n",
      "Best fitness so far: 0.5266555051321131\n",
      "Iteration 6/15\n",
      "Average fitness: 0.27242910272607584\n",
      "Best fitness so far: 0.5266555051321131\n",
      "Iteration 7/15\n",
      "Average fitness: 0.2917721718401753\n",
      "Best fitness so far: 0.5266555051321131\n",
      "Iteration 8/15\n",
      "Average fitness: 0.22716289350867033\n",
      "Best fitness so far: 0.5266555051321131\n",
      "Iteration 9/15\n",
      "Average fitness: 0.24645393464737805\n",
      "Best fitness so far: 0.5266555051321131\n",
      "Iteration 10/15\n",
      "Average fitness: 0.23617581935207838\n",
      "Best fitness so far: 0.5266555051321131\n",
      "Iteration 11/15\n",
      "Average fitness: 0.24515048605615272\n",
      "Best fitness so far: 0.5266555051321131\n",
      "Iteration 12/15\n",
      "Average fitness: 0.25055054573590335\n",
      "Best fitness so far: 0.5266555051321131\n",
      "Iteration 13/15\n",
      "Average fitness: 0.28049581904931636\n",
      "Best fitness so far: 0.5266555051321131\n",
      "Iteration 14/15\n",
      "Average fitness: 0.25549818628610144\n",
      "Best fitness so far: 0.5266555051321131\n",
      "Iteration 15/15\n",
      "New best architecture found with fitness: 0.5325350505861257\n",
      "Average fitness: 0.3215288862343471\n",
      "Best fitness so far: 0.5325350505861257\n"
     ]
    }
   ],
   "source": [
    "best_arch_random, best_fitness_random, history_random = await random_search.search()"
   ]
  },
  {
   "cell_type": "code",
   "execution_count": 14,
   "id": "559d7362-18ed-41e7-8018-e10e7c6969b2",
   "metadata": {},
   "outputs": [
    {
     "name": "stdout",
     "output_type": "stream",
     "text": [
      "[{'type': 'Conv', 'filters': 32, 'kernel': 5, 'stride': 1}, {'type': 'Pool', 'kernel': 2, 'stride': 2}, {'type': 'Conv', 'filters': 128, 'kernel': 3, 'stride': 3}, {'type': 'FC', 'size': 192, 'activation': <class 'torch.nn.modules.activation.Tanh'>}, {'type': 'FC', 'size': 384, 'activation': <class 'torch.nn.modules.activation.Tanh'>}]\n"
     ]
    }
   ],
   "source": [
    "print(best_arch_random)"
   ]
  },
  {
   "cell_type": "markdown",
   "id": "29b6f531-be3f-4c98-a306-67ca1863215c",
   "metadata": {},
   "source": [
    "## Entraînement du meilleur modèle trouver sur tout l'ensemble de données"
   ]
  },
  {
   "cell_type": "code",
   "execution_count": 32,
   "id": "f33b7e5e-bbd5-4684-a6bf-40cf1d0bc45c",
   "metadata": {},
   "outputs": [],
   "source": [
    "device = \"cuda:0\" if torch.cuda.is_available() else \"cpu\""
   ]
  },
  {
   "cell_type": "code",
   "execution_count": 19,
   "id": "749952cf-adc5-430c-af39-351afd9e43c2",
   "metadata": {},
   "outputs": [
    {
     "name": "stdout",
     "output_type": "stream",
     "text": [
      "Epochs : [0/30], average loss : 1.605075\n",
      "Epochs : [1/30], average loss : 1.283854\n",
      "Epochs : [2/30], average loss : 1.132753\n",
      "Epochs : [3/30], average loss : 1.042602\n",
      "Epochs : [4/30], average loss : 0.965647\n",
      "Epochs : [5/30], average loss : 0.922273\n",
      "Epochs : [6/30], average loss : 0.876367\n",
      "Epochs : [7/30], average loss : 0.848537\n",
      "Epochs : [8/30], average loss : 0.819637\n",
      "Epochs : [9/30], average loss : 0.795591\n",
      "Epochs : [10/30], average loss : 0.775575\n",
      "Epochs : [11/30], average loss : 0.753151\n",
      "Epochs : [12/30], average loss : 0.736766\n",
      "Epochs : [13/30], average loss : 0.719295\n",
      "Epochs : [14/30], average loss : 0.709317\n",
      "Epochs : [15/30], average loss : 0.694605\n",
      "Epochs : [16/30], average loss : 0.683353\n",
      "Epochs : [17/30], average loss : 0.664692\n",
      "Epochs : [18/30], average loss : 0.658558\n",
      "Epochs : [19/30], average loss : 0.651183\n",
      "Epochs : [20/30], average loss : 0.635540\n",
      "Epochs : [21/30], average loss : 0.629852\n",
      "Epochs : [22/30], average loss : 0.623478\n",
      "Epochs : [23/30], average loss : 0.620441\n",
      "Epochs : [24/30], average loss : 0.609232\n",
      "Epochs : [25/30], average loss : 0.603623\n",
      "Epochs : [26/30], average loss : 0.594133\n",
      "Epochs : [27/30], average loss : 0.586094\n",
      "Epochs : [28/30], average loss : 0.584680\n",
      "Epochs : [29/30], average loss : 0.579401\n"
     ]
    },
    {
     "ename": "AttributeError",
     "evalue": "'ModelTrainer' object has no attribute 'trainer'",
     "output_type": "error",
     "traceback": [
      "\u001b[0;31m---------------------------------------------------------------------------\u001b[0m",
      "\u001b[0;31mAttributeError\u001b[0m                            Traceback (most recent call last)",
      "Cell \u001b[0;32mIn[19], line 12\u001b[0m\n\u001b[1;32m      2\u001b[0m random_model_trainer \u001b[38;5;241m=\u001b[39m ModelTrainer(\n\u001b[1;32m      3\u001b[0m     random_best_model,\n\u001b[1;32m      4\u001b[0m     device\u001b[38;5;241m=\u001b[39m\u001b[38;5;124m\"\u001b[39m\u001b[38;5;124mcuda:0\u001b[39m\u001b[38;5;124m\"\u001b[39m,\n\u001b[0;32m   (...)\u001b[0m\n\u001b[1;32m      9\u001b[0m     optimizer\u001b[38;5;241m=\u001b[39moptimizer\n\u001b[1;32m     10\u001b[0m )\n\u001b[1;32m     11\u001b[0m random_model_trainer\u001b[38;5;241m.\u001b[39mtrain(verbose\u001b[38;5;241m=\u001b[39m\u001b[38;5;28;01mTrue\u001b[39;00m)\n\u001b[0;32m---> 12\u001b[0m random_best_model_loss_history \u001b[38;5;241m=\u001b[39m \u001b[43mrandom_model_trainer\u001b[49m\u001b[38;5;241;43m.\u001b[39;49m\u001b[43mtrainer\u001b[49m\u001b[38;5;241m.\u001b[39mloss_history\n",
      "\u001b[0;31mAttributeError\u001b[0m: 'ModelTrainer' object has no attribute 'trainer'"
     ]
    }
   ],
   "source": [
    "\n",
    "random_best_model = build_torch_network(best_arch_random, input_shape=input_shape, num_classes=num_classes)\n",
    "random_model_trainer = ModelTrainer(\n",
    "    random_best_model,\n",
    "    device=device,\n",
    "    lr=lr,\n",
    "    epochs=30,\n",
    "    train_loader=train, \n",
    "    test_loader=test,\n",
    "    optimizer=optimizer\n",
    ")\n",
    "random_model_trainer.train(verbose=True)\n",
    "random_best_model_loss_history = random_model_trainer.loss_history"
   ]
  },
  {
   "cell_type": "code",
   "execution_count": 25,
   "id": "02ab7359-7a38-4961-9d3e-80969cd65101",
   "metadata": {},
   "outputs": [
    {
     "data": {
      "image/png": "[encoded data removed]",
      "text/plain": [
       "<Figure size 640x480 with 1 Axes>"
      ]
     },
     "metadata": {},
     "output_type": "display_data"
    }
   ],
   "source": [
    "random_best_model_loss_history = random_model_trainer.loss_history\n",
    "\n",
    "import matplotlib.pyplot as plt\n",
    "plt.semilogy(range(len(random_best_model_loss_history)), random_best_model_loss_history)\n",
    "plt.title(\"Courbe de convergence du meilleur modèle trouver par la recherche aléatoire\")\n",
    "plt.xlabel(\"epoch\")\n",
    "plt.ylabel(\"perte\")\n",
    "plt.show()"
   ]
  },
  {
   "cell_type": "markdown",
   "id": "52bccf31-b564-4c1c-bd35-89a73aa342c6",
   "metadata": {},
   "source": [
    "## Test du modèle"
   ]
  },
  {
   "cell_type": "code",
   "execution_count": 27,
   "id": "fa0215b9-e404-494d-b038-28efa54227aa",
   "metadata": {},
   "outputs": [
    {
     "name": "stdout",
     "output_type": "stream",
     "text": [
      "accuracy : 76.99\n",
      "loss : 0.6715\n"
     ]
    }
   ],
   "source": [
    "random_best_model_test_accuracy, random_best_model_test_loss = random_model_trainer.test()\n",
    "print(f\"accuracy : {random_best_model_test_accuracy}\\nloss : {random_best_model_test_loss:0.4f}\")"
   ]
  },
  {
   "cell_type": "code",
   "execution_count": 36,
   "id": "2cc7ab08-e724-4993-83d6-b57f568aa896",
   "metadata": {},
   "outputs": [],
   "source": [
    "random_best_model.eval()\n",
    "pred_test = []\n",
    "test_target = []\n",
    "with torch.no_grad():\n",
    "    for data, targets in test:\n",
    "        data, targets = data.to(device), targets.to(device)\n",
    "        outputs = random_best_model(data)\n",
    "        pred_test.append(outputs)\n",
    "        test_target.append(targets)"
   ]
  },
  {
   "cell_type": "code",
   "execution_count": 30,
   "id": "bc6f94a4-cf97-4e65-8c2c-5e4bcc9a95b2",
   "metadata": {},
   "outputs": [
    {
     "data": {
      "text/plain": [
       "\u001b[0;31mInit signature:\u001b[0m \u001b[0mConfusionMatrixDisplay\u001b[0m\u001b[0;34m(\u001b[0m\u001b[0mconfusion_matrix\u001b[0m\u001b[0;34m,\u001b[0m \u001b[0;34m*\u001b[0m\u001b[0;34m,\u001b[0m \u001b[0mdisplay_labels\u001b[0m\u001b[0;34m=\u001b[0m\u001b[0;32mNone\u001b[0m\u001b[0;34m)\u001b[0m\u001b[0;34m\u001b[0m\u001b[0;34m\u001b[0m\u001b[0m\n",
       "\u001b[0;31mDocstring:\u001b[0m     \n",
       "Confusion Matrix visualization.\n",
       "\n",
       "It is recommend to use\n",
       ":func:`~sklearn.metrics.ConfusionMatrixDisplay.from_estimator` or\n",
       ":func:`~sklearn.metrics.ConfusionMatrixDisplay.from_predictions` to\n",
       "create a :class:`ConfusionMatrixDisplay`. All parameters are stored as\n",
       "attributes.\n",
       "\n",
       "Read more in the :ref:`User Guide <visualizations>`.\n",
       "\n",
       "Parameters\n",
       "----------\n",
       "confusion_matrix : ndarray of shape (n_classes, n_classes)\n",
       "    Confusion matrix.\n",
       "\n",
       "display_labels : ndarray of shape (n_classes,), default=None\n",
       "    Display labels for plot. If None, display labels are set from 0 to\n",
       "    `n_classes - 1`.\n",
       "\n",
       "Attributes\n",
       "----------\n",
       "im_ : matplotlib AxesImage\n",
       "    Image representing the confusion matrix.\n",
       "\n",
       "text_ : ndarray of shape (n_classes, n_classes), dtype=matplotlib Text,             or None\n",
       "    Array of matplotlib axes. `None` if `include_values` is false.\n",
       "\n",
       "ax_ : matplotlib Axes\n",
       "    Axes with confusion matrix.\n",
       "\n",
       "figure_ : matplotlib Figure\n",
       "    Figure containing the confusion matrix.\n",
       "\n",
       "See Also\n",
       "--------\n",
       "confusion_matrix : Compute Confusion Matrix to evaluate the accuracy of a\n",
       "    classification.\n",
       "ConfusionMatrixDisplay.from_estimator : Plot the confusion matrix\n",
       "    given an estimator, the data, and the label.\n",
       "ConfusionMatrixDisplay.from_predictions : Plot the confusion matrix\n",
       "    given the true and predicted labels.\n",
       "\n",
       "Examples\n",
       "--------\n",
       ">>> import matplotlib.pyplot as plt\n",
       ">>> from sklearn.datasets import make_classification\n",
       ">>> from sklearn.metrics import confusion_matrix, ConfusionMatrixDisplay\n",
       ">>> from sklearn.model_selection import train_test_split\n",
       ">>> from sklearn.svm import SVC\n",
       ">>> X, y = make_classification(random_state=0)\n",
       ">>> X_train, X_test, y_train, y_test = train_test_split(X, y,\n",
       "...                                                     random_state=0)\n",
       ">>> clf = SVC(random_state=0)\n",
       ">>> clf.fit(X_train, y_train)\n",
       "SVC(random_state=0)\n",
       ">>> predictions = clf.predict(X_test)\n",
       ">>> cm = confusion_matrix(y_test, predictions, labels=clf.classes_)\n",
       ">>> disp = ConfusionMatrixDisplay(confusion_matrix=cm,\n",
       "...                               display_labels=clf.classes_)\n",
       ">>> disp.plot()\n",
       "<...>\n",
       ">>> plt.show()\n",
       "\u001b[0;31mFile:\u001b[0m           /usr/local/lib/python3.10/dist-packages/sklearn/metrics/_plot/confusion_matrix.py\n",
       "\u001b[0;31mType:\u001b[0m           type\n",
       "\u001b[0;31mSubclasses:\u001b[0m     "
      ]
     },
     "metadata": {},
     "output_type": "display_data"
    }
   ],
   "source": [
    "from sklearn.metrics import confusion_matrix, ConfusionMatrixDisplay\n",
    "conf_matrix = confusion_matrix(test.detach().numpy().cpu(), )\n",
    "ConfusionMatrixDisplay?"
   ]
  },
  {
   "cell_type": "markdown",
   "id": "2b1e82e3-0f78-4385-9500-14bacf8d7e4a",
   "metadata": {},
   "source": [
    "## Recherche avec l'algorithme génétique"
   ]
  },
  {
   "cell_type": "code",
   "execution_count": 8,
   "id": "c7802d08-c8de-4d03-ac3a-99d7007fb1d7",
   "metadata": {},
   "outputs": [],
   "source": [
    "genetic_search = GeneticSearch(\n",
    "                 selection_type = \"tournement\",\n",
    "                 mutation_rate = 0.1,\n",
    "                 tournement_size = 5,\n",
    "                 tournement_prob=.75,\n",
    "                 selection_presure=1.5,\n",
    "                 population_size=population_size, \n",
    "                 iterations=iterations, \n",
    "                 train_loader=sub_train, \n",
    "                 test_loader=sub_test, \n",
    "                 input_shape=input_shape,\n",
    "                 num_classes=num_classes,\n",
    "                 epochs=epochs,\n",
    "                 lr=lr,\n",
    "                 optimizer=optimizer,\n",
    "                 use_gpu=torch.cuda.is_available()\n",
    ")\n",
    "\n"
   ]
  },
  {
   "cell_type": "code",
   "execution_count": null,
   "id": "957f72e3-e0aa-4e7c-acc5-f0ebe62c30c5",
   "metadata": {},
   "outputs": [
    {
     "name": "stderr",
     "output_type": "stream",
     "text": [
      "/usr/local/lib/python3.10/dist-packages/torch/nn/init.py:412: UserWarning: Initializing zero-element tensors is a no-op\n",
      "  warnings.warn(\"Initializing zero-element tensors is a no-op\")\n"
     ]
    },
    {
     "name": "stdout",
     "output_type": "stream",
     "text": [
      "New best architecture found with fitness: 0.30279312494510174\n",
      "New best architecture found with fitness: 0.33365506504843734\n",
      "New best architecture found with fitness: 0.36698286815332204\n",
      "New best architecture found with fitness: 0.42568244464727634\n",
      "New best architecture found with fitness: 0.42816597676723306\n",
      "New best architecture found with fitness: 0.4606221676882551\n",
      "Iteration 1/15\n"
     ]
    }
   ],
   "source": [
    "best_arch_genetic, best_fitness_genetic, history_genetic = await genetic_search.search()"
   ]
  },
  {
   "cell_type": "code",
   "execution_count": null,
   "id": "f016676f-134d-4ec4-925a-dce572f0f7fe",
   "metadata": {},
   "outputs": [],
   "source": []
  }
 ],
 "metadata": {
  "kernelspec": {
   "display_name": "Python 3 (ipykernel)",
   "language": "python",
   "name": "python3"
  },
  "language_info": {
   "codemirror_mode": {
    "name": "ipython",
    "version": 3
   },
   "file_extension": ".py",
   "mimetype": "text/x-python",
   "name": "python",
   "nbconvert_exporter": "python",
   "pygments_lexer": "ipython3",
   "version": "3.10.12"
  },
  "widgets": {
   "application/vnd.jupyter.widget-state+json": {
    "state": {},
    "version_major": 2,
    "version_minor": 0
   }
  }
 },
 "nbformat": 4,
 "nbformat_minor": 5
}
