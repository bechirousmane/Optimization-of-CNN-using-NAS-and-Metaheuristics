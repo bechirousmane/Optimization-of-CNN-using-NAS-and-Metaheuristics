{
 "cells": [
  {
   "cell_type": "markdown",
   "id": "b65c33fa",
   "metadata": {},
   "source": [
    "# Recherche d'architecture pour le jeu de données CIFAR10"
   ]
  },
  {
   "cell_type": "code",
   "execution_count": 2,
   "id": "8caf9b45",
   "metadata": {
    "vscode": {
     "languageId": "plaintext"
    }
   },
   "outputs": [],
   "source": [
    "import torch\n",
    "from data.cifar10_loader import load_cifar10\n",
    "from optimizers.random_search import RandomSearch\n",
    "from optimizers.genetic_search import GeneticSearch\n",
    "from optimizers.firefly_search import FireFlySearch\n",
    "from search_spaces.searchSpaceConfig import Config\n",
    "from train.trainer import ModelTrainer\n",
    "from ressource.ressource_manager import ResourceManager"
   ]
  },
  {
   "cell_type": "markdown",
   "id": "97331b19-3af6-41de-b8ee-993d90296511",
   "metadata": {},
   "source": [
    "## Définition des paramètres et chargement de la configuration de l'espace de recherche"
   ]
  },
  {
   "cell_type": "code",
   "execution_count": 3,
   "id": "9f2323fb-6bad-4176-9aa6-b4e67fe22143",
   "metadata": {},
   "outputs": [
    {
     "name": "stderr",
     "output_type": "stream",
     "text": [
      "2025-05-16 21:23:45,560 - search_spaces.searchSpaceConfig - INFO - Configuration successfully loaded from /home/bechir/Bureau/project/PJI/config.json\n"
     ]
    }
   ],
   "source": [
    "epochs = 15\n",
    "batch_size = 128\n",
    "lr = 0.001\n",
    "population_size = 30\n",
    "iterations = 15\n",
    "input_shape = (3,32,32)\n",
    "optimizer = \"AdamW\"\n",
    "num_classes = 10\n",
    "Config.load_config(config_path=\"/home/bechir/Bureau/project/PJI/config.json\")"
   ]
  },
  {
   "cell_type": "code",
   "execution_count": 4,
   "id": "e983f8a1-a9e2-4003-bdf2-fe5dfd649da3",
   "metadata": {},
   "outputs": [
    {
     "name": "stdout",
     "output_type": "stream",
     "text": [
      "{'FILTERS_MAP': [32, 64, 128, 256], 'KERNEL_MAP': [2, 3, 5, 7], 'STRIDE_MAP': [1, 2, 3, 4], 'CONV_PADDING': 1, 'POOL_PADDING': 1, 'FC_SIZES': [8, 16, 24, 32, 48, 64, 80, 96, 112, 128, 160, 192, 224, 256, 384, 512], 'MAX_LAYERS': 10, 'MIN_LAYERS': 2, 'CROMOSOME_SIZE': 8, 'ACTIVATION_FUNCTIONS': ['ReLU', 'ELU', 'Sigmoid', 'Tanh']}\n"
     ]
    }
   ],
   "source": [
    "print(Config.get_config_as_dict())"
   ]
  },
  {
   "cell_type": "markdown",
   "id": "60de454d-a5e2-4f5a-a51b-ea304857a9d7",
   "metadata": {},
   "source": [
    "## Chargement des données"
   ]
  },
  {
   "cell_type": "code",
   "execution_count": 7,
   "id": "41259cbf-2ebc-4cf0-8c93-919140784e8e",
   "metadata": {},
   "outputs": [
    {
     "name": "stdout",
     "output_type": "stream",
     "text": [
      "CIFAR10 dataset loaded: 20000 training samples, 5000 test samples\n",
      "Data shape: torch.Size([128, 3, 32, 32])\n",
      "Classes: ['airplane', 'automobile', 'bird', 'cat', 'deer', 'dog', 'frog', 'horse', 'ship', 'truck']\n"
     ]
    }
   ],
   "source": [
    "n_sub_train, n_sub_test = 20000, 5000\n",
    "sub_train, sub_test = load_cifar10(n_train=n_train, n_test=n_test,batch_size=batch_size)"
   ]
  },
  {
   "cell_type": "code",
   "execution_count": 14,
   "id": "4d0753ad-9f08-490b-9f04-6c7414f3a784",
   "metadata": {},
   "outputs": [
    {
     "name": "stdout",
     "output_type": "stream",
     "text": [
      "CIFAR10 dataset loaded: 50000 training samples, 10000 test samples\n",
      "Data shape: torch.Size([128, 3, 32, 32])\n",
      "Classes: Not available for Subset\n"
     ]
    }
   ],
   "source": [
    "train, test = load_cifar10(batch_size=batch_size)"
   ]
  },
  {
   "cell_type": "markdown",
   "id": "37dee11c-1231-47c2-995e-62ee81b29355",
   "metadata": {},
   "source": [
    "## La recherche aléatoire"
   ]
  },
  {
   "cell_type": "code",
   "execution_count": 8,
   "id": "47c53e54-ad8e-4c5f-9037-ee5ead0d4fd9",
   "metadata": {},
   "outputs": [
    {
     "data": {
      "text/plain": [
       "False"
      ]
     },
     "execution_count": 8,
     "metadata": {},
     "output_type": "execute_result"
    }
   ],
   "source": [
    "torch.cuda.is_available()"
   ]
  },
  {
   "cell_type": "code",
   "execution_count": 9,
   "id": "6e8bb865-ae18-4e17-9d30-3b65e95fd6a6",
   "metadata": {},
   "outputs": [],
   "source": [
    "random_search = RandomSearch(\n",
    "    population_size=population_size,\n",
    "    iterations=iterations,\n",
    "    train_loader=sub_train,\n",
    "    test_loader=sub_test,\n",
    "    input_shape=input_shape,\n",
    "    num_classes=num_classes,\n",
    "    epochs=epochs,\n",
    "    lr=lr,\n",
    "    optimizer=optimizer,\n",
    "    use_gpu=torch.cuda.is_available()\n",
    ")"
   ]
  },
  {
   "cell_type": "code",
   "execution_count": null,
   "id": "413a3716-2429-4ec4-9976-c0405ed1b939",
   "metadata": {},
   "outputs": [
    {
     "name": "stdout",
     "output_type": "stream",
     "text": [
      "Iteration 1/15\n"
     ]
    },
    {
     "name": "stderr",
     "output_type": "stream",
     "text": [
      "/home/bechir/Bureau/SD/env_virt/lib/python3.12/site-packages/torch/nn/init.py:511: UserWarning: Initializing zero-element tensors is a no-op\n",
      "  warnings.warn(\"Initializing zero-element tensors is a no-op\")\n"
     ]
    },
    {
     "name": "stdout",
     "output_type": "stream",
     "text": [
      "New best architecture found with fitness: 0.4168175184443221\n",
      "New best architecture found with fitness: 0.43074388166977673\n",
      "New best architecture found with fitness: 0.48781917088296833\n",
      "New best architecture found with fitness: 0.520139295370938\n",
      "Average fitness: 0.29485962523946607\n",
      "Best fitness so far: 0.520139295370938\n",
      "Iteration 2/15\n",
      "Average fitness: 0.21745421191398903\n",
      "Best fitness so far: 0.520139295370938\n",
      "Iteration 3/15\n"
     ]
    }
   ],
   "source": [
    "best_arch_random, best_fitness_random, history_random = await random_search.search()"
   ]
  },
  {
   "cell_type": "markdown",
   "id": "29b6f531-be3f-4c98-a306-67ca1863215c",
   "metadata": {},
   "source": [
    "## Entraînement du meilleur modèle trouver sur tout l'ensemble de données"
   ]
  },
  {
   "cell_type": "code",
   "execution_count": null,
   "id": "749952cf-adc5-430c-af39-351afd9e43c2",
   "metadata": {},
   "outputs": [],
   "source": [
    "ressourceManager = ResourceManager(use_gpu=torch.cuda.is_available)\n",
    "random_best_model = build_torch_network(best_arch_random, input_shape=input_shape, num_classes=num_classes)\n",
    "random_model_trainer = ModelTrainer(\n",
    "    random_best_model,\n",
    "    device=ressourceManager.acquire(),\n",
    "    lr=lr,\n",
    "    epochs=epochs,\n",
    "    train_loader=train, \n",
    "    test_loader=test,\n",
    "    optimizer=optimizer\n",
    ")\n",
    "random_model_trainer.train(verbose=True)\n",
    "random_best_model_loss_history = random_model_trainer.trainer.loss_history"
   ]
  },
  {
   "cell_type": "markdown",
   "id": "2b1e82e3-0f78-4385-9500-14bacf8d7e4a",
   "metadata": {},
   "source": [
    "## Recherche avec l'algorithme génétique"
   ]
  },
  {
   "cell_type": "code",
   "execution_count": null,
   "id": "c7802d08-c8de-4d03-ac3a-99d7007fb1d7",
   "metadata": {},
   "outputs": [],
   "source": [
    "genetic_search = GeneticSearch(\n",
    "                 selection_type = \"tournement\",\n",
    "                 mutation_rate = 0.1,\n",
    "                 tournement_size = 5,\n",
    "                 tournement_prob=.75,\n",
    "                 selection_presure=1.5,\n",
    "                 population_size=population_size, \n",
    "                 iterations=iterations, \n",
    "                 train_loader=train, \n",
    "                 test_loader=test, \n",
    "                 input_shape=input_shape,\n",
    "                 num_classes=num_classes,\n",
    "                 epochs=epochs,\n",
    "                 lr=lr,\n",
    "                 optimizer=optimizer,\n",
    "                 use_gpu=torch.cuda.is_available()\n",
    ")\n",
    "\n"
   ]
  },
  {
   "cell_type": "code",
   "execution_count": null,
   "id": "957f72e3-e0aa-4e7c-acc5-f0ebe62c30c5",
   "metadata": {},
   "outputs": [],
   "source": [
    "best_arch_genetic, best_fitness_genetic, history_genetic = await genetic_search.search()"
   ]
  }
 ],
 "metadata": {
  "kernelspec": {
   "display_name": "Python 3 (ipykernel)",
   "language": "python",
   "name": "python3"
  },
  "language_info": {
   "codemirror_mode": {
    "name": "ipython",
    "version": 3
   },
   "file_extension": ".py",
   "mimetype": "text/x-python",
   "name": "python",
   "nbconvert_exporter": "python",
   "pygments_lexer": "ipython3",
   "version": "3.12.3"
  },
  "widgets": {
   "application/vnd.jupyter.widget-state+json": {
    "state": {},
    "version_major": 2,
    "version_minor": 0
   }
  }
 },
 "nbformat": 4,
 "nbformat_minor": 5
}
